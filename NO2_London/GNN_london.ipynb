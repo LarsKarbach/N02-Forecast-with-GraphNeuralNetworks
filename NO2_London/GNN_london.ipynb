{
 "cells": [
  {
   "cell_type": "code",
   "execution_count": 2,
   "metadata": {},
   "outputs": [],
   "source": [
    "import numpy as np\n",
    "import pandas as pd\n",
    "import geopandas as gpd\n",
    "import networkx as nx\n",
    "import matplotlib.pyplot as plt\n",
    "from libpysal import weights"
   ]
  },
  {
   "cell_type": "markdown",
   "metadata": {},
   "source": [
    "The data consist of 6 months of hourly measered NO2 concentrations at 11 measuring points in the mid of london. "
   ]
  },
  {
   "cell_type": "code",
   "execution_count": 3,
   "metadata": {},
   "outputs": [],
   "source": [
    "laqn = pd.read_csv(\"data/londonNO2.csv\")"
   ]
  },
  {
   "cell_type": "code",
   "execution_count": 4,
   "metadata": {},
   "outputs": [
    {
     "data": {
      "text/html": [
       "<div>\n",
       "<style scoped>\n",
       "    .dataframe tbody tr th:only-of-type {\n",
       "        vertical-align: middle;\n",
       "    }\n",
       "\n",
       "    .dataframe tbody tr th {\n",
       "        vertical-align: top;\n",
       "    }\n",
       "\n",
       "    .dataframe thead th {\n",
       "        text-align: right;\n",
       "    }\n",
       "</style>\n",
       "<table border=\"1\" class=\"dataframe\">\n",
       "  <thead>\n",
       "    <tr style=\"text-align: right;\">\n",
       "      <th></th>\n",
       "      <th>Unnamed: 0</th>\n",
       "      <th>Site</th>\n",
       "      <th>Species</th>\n",
       "      <th>ReadingDateTime</th>\n",
       "      <th>Value</th>\n",
       "      <th>Units</th>\n",
       "      <th>Provisional or Ratified</th>\n",
       "      <th>lat</th>\n",
       "      <th>lon</th>\n",
       "    </tr>\n",
       "  </thead>\n",
       "  <tbody>\n",
       "    <tr>\n",
       "      <th>0</th>\n",
       "      <td>0</td>\n",
       "      <td>BL0</td>\n",
       "      <td>NO</td>\n",
       "      <td>2021-01-03 00:00:00</td>\n",
       "      <td>6.2</td>\n",
       "      <td>ug m-3</td>\n",
       "      <td>R</td>\n",
       "      <td>51.522287</td>\n",
       "      <td>-0.125848</td>\n",
       "    </tr>\n",
       "    <tr>\n",
       "      <th>1</th>\n",
       "      <td>1</td>\n",
       "      <td>BL0</td>\n",
       "      <td>NO</td>\n",
       "      <td>2021-01-03 01:00:00</td>\n",
       "      <td>1.8</td>\n",
       "      <td>ug m-3</td>\n",
       "      <td>R</td>\n",
       "      <td>51.522287</td>\n",
       "      <td>-0.125848</td>\n",
       "    </tr>\n",
       "    <tr>\n",
       "      <th>2</th>\n",
       "      <td>2</td>\n",
       "      <td>BL0</td>\n",
       "      <td>NO</td>\n",
       "      <td>2021-01-03 02:00:00</td>\n",
       "      <td>1.7</td>\n",
       "      <td>ug m-3</td>\n",
       "      <td>R</td>\n",
       "      <td>51.522287</td>\n",
       "      <td>-0.125848</td>\n",
       "    </tr>\n",
       "    <tr>\n",
       "      <th>3</th>\n",
       "      <td>3</td>\n",
       "      <td>BL0</td>\n",
       "      <td>NO</td>\n",
       "      <td>2021-01-03 03:00:00</td>\n",
       "      <td>1.3</td>\n",
       "      <td>ug m-3</td>\n",
       "      <td>R</td>\n",
       "      <td>51.522287</td>\n",
       "      <td>-0.125848</td>\n",
       "    </tr>\n",
       "    <tr>\n",
       "      <th>4</th>\n",
       "      <td>4</td>\n",
       "      <td>BL0</td>\n",
       "      <td>NO</td>\n",
       "      <td>2021-01-03 04:00:00</td>\n",
       "      <td>1.9</td>\n",
       "      <td>ug m-3</td>\n",
       "      <td>R</td>\n",
       "      <td>51.522287</td>\n",
       "      <td>-0.125848</td>\n",
       "    </tr>\n",
       "    <tr>\n",
       "      <th>...</th>\n",
       "      <td>...</td>\n",
       "      <td>...</td>\n",
       "      <td>...</td>\n",
       "      <td>...</td>\n",
       "      <td>...</td>\n",
       "      <td>...</td>\n",
       "      <td>...</td>\n",
       "      <td>...</td>\n",
       "      <td>...</td>\n",
       "    </tr>\n",
       "    <tr>\n",
       "      <th>48571</th>\n",
       "      <td>26491</td>\n",
       "      <td>HK6</td>\n",
       "      <td>NOX</td>\n",
       "      <td>2021-08-31 19:00:00</td>\n",
       "      <td>17.6</td>\n",
       "      <td>ug m-3 as NO2</td>\n",
       "      <td>R</td>\n",
       "      <td>51.526454</td>\n",
       "      <td>-0.084910</td>\n",
       "    </tr>\n",
       "    <tr>\n",
       "      <th>48572</th>\n",
       "      <td>26492</td>\n",
       "      <td>HK6</td>\n",
       "      <td>NOX</td>\n",
       "      <td>2021-08-31 20:00:00</td>\n",
       "      <td>15.2</td>\n",
       "      <td>ug m-3 as NO2</td>\n",
       "      <td>R</td>\n",
       "      <td>51.526454</td>\n",
       "      <td>-0.084910</td>\n",
       "    </tr>\n",
       "    <tr>\n",
       "      <th>48573</th>\n",
       "      <td>26493</td>\n",
       "      <td>HK6</td>\n",
       "      <td>NOX</td>\n",
       "      <td>2021-08-31 21:00:00</td>\n",
       "      <td>15.2</td>\n",
       "      <td>ug m-3 as NO2</td>\n",
       "      <td>R</td>\n",
       "      <td>51.526454</td>\n",
       "      <td>-0.084910</td>\n",
       "    </tr>\n",
       "    <tr>\n",
       "      <th>48574</th>\n",
       "      <td>26494</td>\n",
       "      <td>HK6</td>\n",
       "      <td>NOX</td>\n",
       "      <td>2021-08-31 22:00:00</td>\n",
       "      <td>15.8</td>\n",
       "      <td>ug m-3 as NO2</td>\n",
       "      <td>R</td>\n",
       "      <td>51.526454</td>\n",
       "      <td>-0.084910</td>\n",
       "    </tr>\n",
       "    <tr>\n",
       "      <th>48575</th>\n",
       "      <td>26495</td>\n",
       "      <td>HK6</td>\n",
       "      <td>NOX</td>\n",
       "      <td>2021-08-31 23:00:00</td>\n",
       "      <td>15.8</td>\n",
       "      <td>ug m-3 as NO2</td>\n",
       "      <td>R</td>\n",
       "      <td>51.526454</td>\n",
       "      <td>-0.084910</td>\n",
       "    </tr>\n",
       "  </tbody>\n",
       "</table>\n",
       "<p>48576 rows × 9 columns</p>\n",
       "</div>"
      ],
      "text/plain": [
       "       Unnamed: 0 Site Species      ReadingDateTime  Value          Units  \\\n",
       "0               0  BL0      NO  2021-01-03 00:00:00    6.2         ug m-3   \n",
       "1               1  BL0      NO  2021-01-03 01:00:00    1.8         ug m-3   \n",
       "2               2  BL0      NO  2021-01-03 02:00:00    1.7         ug m-3   \n",
       "3               3  BL0      NO  2021-01-03 03:00:00    1.3         ug m-3   \n",
       "4               4  BL0      NO  2021-01-03 04:00:00    1.9         ug m-3   \n",
       "...           ...  ...     ...                  ...    ...            ...   \n",
       "48571       26491  HK6     NOX  2021-08-31 19:00:00   17.6  ug m-3 as NO2   \n",
       "48572       26492  HK6     NOX  2021-08-31 20:00:00   15.2  ug m-3 as NO2   \n",
       "48573       26493  HK6     NOX  2021-08-31 21:00:00   15.2  ug m-3 as NO2   \n",
       "48574       26494  HK6     NOX  2021-08-31 22:00:00   15.8  ug m-3 as NO2   \n",
       "48575       26495  HK6     NOX  2021-08-31 23:00:00   15.8  ug m-3 as NO2   \n",
       "\n",
       "      Provisional or Ratified        lat       lon  \n",
       "0                           R  51.522287 -0.125848  \n",
       "1                           R  51.522287 -0.125848  \n",
       "2                           R  51.522287 -0.125848  \n",
       "3                           R  51.522287 -0.125848  \n",
       "4                           R  51.522287 -0.125848  \n",
       "...                       ...        ...       ...  \n",
       "48571                       R  51.526454 -0.084910  \n",
       "48572                       R  51.526454 -0.084910  \n",
       "48573                       R  51.526454 -0.084910  \n",
       "48574                       R  51.526454 -0.084910  \n",
       "48575                       R  51.526454 -0.084910  \n",
       "\n",
       "[48576 rows x 9 columns]"
      ]
     },
     "execution_count": 4,
     "metadata": {},
     "output_type": "execute_result"
    }
   ],
   "source": [
    "laqn"
   ]
  },
  {
   "cell_type": "markdown",
   "metadata": {},
   "source": [
    "We convert our data to a GeoDataFrame, so we can exploit the positions from the points to build a Graph with networkx."
   ]
  },
  {
   "cell_type": "code",
   "execution_count": 6,
   "metadata": {},
   "outputs": [],
   "source": [
    "laqn=gpd.GeoDataFrame(laqn, geometry=gpd.points_from_xy(laqn.lon,laqn.lat),crs=\"EPSG:4326\")"
   ]
  },
  {
   "cell_type": "markdown",
   "metadata": {},
   "source": [
    "With the help of libpysal, we estimate the distance between the points, which indicates the strength of the relationship between two nodes. For this, we just have to specify one value per node. Then we convert the distance to a graph."
   ]
  },
  {
   "cell_type": "code",
   "execution_count": 7,
   "metadata": {},
   "outputs": [],
   "source": [
    "kernel_distance = weights.Kernel.from_dataframe(laqn.groupby(\"Site\").first())\n",
    "kernel_graph = kernel_distance.to_networkx()"
   ]
  },
  {
   "cell_type": "markdown",
   "metadata": {},
   "source": [
    "We can now look at the created edges."
   ]
  },
  {
   "cell_type": "code",
   "execution_count": 8,
   "metadata": {},
   "outputs": [
    {
     "data": {
      "text/plain": [
       "(<Figure size 432x288 with 1 Axes>, <AxesSubplot:>)"
      ]
     },
     "execution_count": 8,
     "metadata": {},
     "output_type": "execute_result"
    },
    {
     "data": {
      "image/png": "[encoded data removed]",
      "text/plain": [
       "<Figure size 432x288 with 1 Axes>"
      ]
     },
     "metadata": {
      "needs_background": "light"
     },
     "output_type": "display_data"
    }
   ],
   "source": [
    "kernel_distance.plot(laqn.groupby(\"Site\").first())"
   ]
  },
  {
   "cell_type": "markdown",
   "metadata": {},
   "source": [
    "### Constructing the Data Iterator"
   ]
  },
  {
   "cell_type": "code",
   "execution_count": 9,
   "metadata": {},
   "outputs": [],
   "source": [
    "import torch\n",
    "from torch_geometric_temporal import StaticGraphTemporalSignal\n",
    "from torch_geometric_temporal.signal import temporal_signal_split"
   ]
  },
  {
   "cell_type": "markdown",
   "metadata": {},
   "source": [
    "With torch_geometric_temporal we can construct a data iterator, which we will use later when we train our Graph Neural Network. In our case we have 11 fixed points, so we have a static graph. But our signal is temporal, so we have to construct a StaticGraphTemporalSignal. For that we need 4 things.\n",
    "\n",
    "* edge_index: An array with the source and target nodes of all edegs in the graph\n",
    "* edge_weight: An array with the weights of the edges\n",
    "* features: A list of arrays, with the features of each node\n",
    "* targets: A list of arrays, with the target variable for each node"
   ]
  },
  {
   "cell_type": "markdown",
   "metadata": {},
   "source": [
    "Let's start with the edge_index. With the graph defined as a networkx object, we can extract the edges like this."
   ]
  },
  {
   "cell_type": "code",
   "execution_count": 10,
   "metadata": {},
   "outputs": [],
   "source": [
    "edges = np.array(kernel_graph.edges).tolist()"
   ]
  },
  {
   "cell_type": "markdown",
   "metadata": {},
   "source": [
    "However for constructing the final array, we need to account for both directions of an edge. So we define our edges of one direction. The we flip each pair of our original edges, which gives us the edges of the other direction."
   ]
  },
  {
   "cell_type": "code",
   "execution_count": 11,
   "metadata": {},
   "outputs": [],
   "source": [
    "edges1 = torch.tensor(np.array(edges),dtype=torch.long)\n",
    "edges2 = torch.tensor(np.array(edges),dtype=torch.long).flip(dims=[1])"
   ]
  },
  {
   "cell_type": "markdown",
   "metadata": {},
   "source": [
    "Now we filter the selfloops, since they have not two directions."
   ]
  },
  {
   "cell_type": "code",
   "execution_count": 12,
   "metadata": {},
   "outputs": [],
   "source": [
    "edges2 = edges2.tolist()\n",
    "edges2 = torch.tensor([val for val in edges2 if val[0]!=val[1]])"
   ]
  },
  {
   "cell_type": "markdown",
   "metadata": {},
   "source": [
    "Then we concatenate the edge tensors and construct the edge_index object with the transpose."
   ]
  },
  {
   "cell_type": "code",
   "execution_count": 13,
   "metadata": {},
   "outputs": [],
   "source": [
    "edges = torch.cat((edges1, edges2),0)\n",
    "edge_index = edges.t().contiguous()"
   ]
  },
  {
   "cell_type": "markdown",
   "metadata": {},
   "source": [
    "Now we head on with the weights of our edges. For this we first extract the weights with the affiliated function and then we flatten the list."
   ]
  },
  {
   "cell_type": "code",
   "execution_count": 14,
   "metadata": {},
   "outputs": [],
   "source": [
    "kernel_distance.weights.values()\n",
    "\n",
    "weights = [val for sublist in kernel_distance.weights.values() for val in sublist]"
   ]
  },
  {
   "cell_type": "code",
   "execution_count": 15,
   "metadata": {},
   "outputs": [],
   "source": [
    "edge_weight = np.array(weights)"
   ]
  },
  {
   "cell_type": "markdown",
   "metadata": {},
   "source": [
    "For the targets we arange our dataframe, so that we can then extract the target value for every time point and node."
   ]
  },
  {
   "cell_type": "code",
   "execution_count": 16,
   "metadata": {},
   "outputs": [],
   "source": [
    "targets = laqn[[\"ReadingDateTime\",\"Value\",\"Site\"]].groupby([\"ReadingDateTime\"]).Value.apply(list).reset_index().Value.to_list()"
   ]
  },
  {
   "cell_type": "code",
   "execution_count": 17,
   "metadata": {},
   "outputs": [],
   "source": [
    "def get_targets_and_features(lags, targets):\n",
    "\n",
    "    stacked_target = np.stack(targets)\n",
    "    standardized_target = (stacked_target - np.mean(stacked_target, axis=0)) / (\n",
    "            np.std(stacked_target, axis=0) + 10 ** -10\n",
    "        )\n",
    "    features = [\n",
    "            standardized_target[i : i + lags, :].T\n",
    "            for i in range(standardized_target.shape[0] - lags)\n",
    "        ]\n",
    "    targets = [\n",
    "            standardized_target[i + lags, :].T\n",
    "            for i in range(standardized_target.shape[0] - lags)\n",
    "        ]\n",
    "\n",
    "    return features, targets"
   ]
  },
  {
   "cell_type": "code",
   "execution_count": 18,
   "metadata": {},
   "outputs": [],
   "source": [
    "features = get_targets_and_features(2, targets)[0]\n",
    "targets = get_targets_and_features(2, targets)[1]"
   ]
  },
  {
   "cell_type": "markdown",
   "metadata": {},
   "source": [
    "Now we can define our data set."
   ]
  },
  {
   "cell_type": "code",
   "execution_count": 19,
   "metadata": {},
   "outputs": [],
   "source": [
    "dataset = StaticGraphTemporalSignal(edge_index, edge_weight, features, targets)"
   ]
  },
  {
   "cell_type": "markdown",
   "metadata": {},
   "source": [
    "Then split the data in training and test data"
   ]
  },
  {
   "cell_type": "code",
   "execution_count": 20,
   "metadata": {},
   "outputs": [],
   "source": [
    "train_dataset, test_dataset = temporal_signal_split(dataset, train_ratio=0.4)"
   ]
  },
  {
   "cell_type": "markdown",
   "metadata": {},
   "source": [
    "### PyTorch Geometric Temporal"
   ]
  },
  {
   "cell_type": "code",
   "execution_count": 23,
   "metadata": {},
   "outputs": [],
   "source": [
    "import torch.nn.functional as F\n",
    "# import torch_geometric_temporal.nn\n",
    "from torch_geometric_temporal.nn import STConv, SpatioTemporalAttention, GConvGRU"
   ]
  },
  {
   "cell_type": "markdown",
   "metadata": {},
   "source": [
    "Now we can define our Graph Neural Network"
   ]
  },
  {
   "cell_type": "code",
   "execution_count": 24,
   "metadata": {},
   "outputs": [],
   "source": [
    "class RecurrentGCN(torch.nn.Module):\n",
    "    def __init__(self, node_features, filters):\n",
    "        super(RecurrentGCN, self).__init__()\n",
    "        self.recurrent = GConvGRU(node_features, filters, 2)\n",
    "        self.linear = torch.nn.Linear(filters, 1)\n",
    "\n",
    "    def forward(self, x, edge_index, edge_weight):\n",
    "        h = self.recurrent(x, edge_index, edge_weight)\n",
    "        h = F.relu(h)\n",
    "        h = self.linear(h)\n",
    "        return h"
   ]
  },
  {
   "cell_type": "markdown",
   "metadata": {},
   "source": [
    "And train it!"
   ]
  },
  {
   "cell_type": "code",
   "execution_count": null,
   "metadata": {},
   "outputs": [],
   "source": [
    "model = RecurrentGCN(node_features=2, filters=32)\n",
    "\n",
    "optimizer = torch.optim.Adam(model.parameters(), lr=0.01)\n",
    "\n",
    "model.train()\n",
    "\n",
    "for epoch in range(50):\n",
    "    for time, snapshot in enumerate(train_dataset):\n",
    "        y_hat = model(snapshot.x, snapshot.edge_index, snapshot.edge_attr)\n",
    "        cost = torch.mean((y_hat-snapshot.y)**2)\n",
    "        cost.backward()\n",
    "        optimizer.step()\n",
    "        optimizer.zero_grad()"
   ]
  }
 ],
 "metadata": {
  "interpreter": {
   "hash": "3b39d068ec190af361fccf3fa0b412a1338984b2909016e6aaf02f9df1d4ac72"
  },
  "kernelspec": {
   "display_name": "Python 3.8.12 ('base')",
   "language": "python",
   "name": "python3"
  },
  "language_info": {
   "codemirror_mode": {
    "name": "ipython",
    "version": 3
   },
   "file_extension": ".py",
   "mimetype": "text/x-python",
   "name": "python",
   "nbconvert_exporter": "python",
   "pygments_lexer": "ipython3",
   "version": "3.8.13"
  },
  "orig_nbformat": 4
 },
 "nbformat": 4,
 "nbformat_minor": 2
}
